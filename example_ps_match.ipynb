{
 "cells": [
  {
   "cell_type": "markdown",
   "metadata": {},
   "source": [
    "## A complete example of ps-matching code"
   ]
  },
  {
   "cell_type": "markdown",
   "metadata": {},
   "source": [
    "We first read the data and quickly explore it using tableone package"
   ]
  },
  {
   "cell_type": "code",
   "execution_count": 6,
   "metadata": {},
   "outputs": [
    {
     "name": "stderr",
     "output_type": "stream",
     "text": [
      "<frozen importlib._bootstrap>:219: RuntimeWarning: numpy.ufunc size changed, may indicate binary incompatibility. Expected 192 from C header, got 216 from PyObject\n",
      "<frozen importlib._bootstrap>:219: RuntimeWarning: numpy.ufunc size changed, may indicate binary incompatibility. Expected 192 from C header, got 216 from PyObject\n"
     ]
    }
   ],
   "source": [
    "import pandas as pd\n",
    "from tableone import TableOne\n",
    "from typing import List\n",
    "\n",
    "from pandas import Series\n",
    "from src.plots import ScorePlotter\n",
    "from src.prepare_data import PrepData\n",
    "from src.propensity_matching import PScorer\n",
    "from src.find_similarities import ObsMatcher"
   ]
  },
  {
   "cell_type": "code",
   "execution_count": 7,
   "metadata": {},
   "outputs": [
    {
     "data": {
      "text/html": [
       "<div>\n",
       "<style scoped>\n",
       "    .dataframe tbody tr th:only-of-type {\n",
       "        vertical-align: middle;\n",
       "    }\n",
       "\n",
       "    .dataframe tbody tr th {\n",
       "        vertical-align: top;\n",
       "    }\n",
       "\n",
       "    .dataframe thead th {\n",
       "        text-align: right;\n",
       "    }\n",
       "</style>\n",
       "<table border=\"1\" class=\"dataframe\">\n",
       "  <thead>\n",
       "    <tr style=\"text-align: right;\">\n",
       "      <th></th>\n",
       "      <th>target</th>\n",
       "      <th>acquirer</th>\n",
       "      <th>order_total_spent</th>\n",
       "      <th>credit_card_type</th>\n",
       "      <th>credit_card_company</th>\n",
       "      <th>model_score_category</th>\n",
       "    </tr>\n",
       "    <tr>\n",
       "      <th>id</th>\n",
       "      <th></th>\n",
       "      <th></th>\n",
       "      <th></th>\n",
       "      <th></th>\n",
       "      <th></th>\n",
       "      <th></th>\n",
       "    </tr>\n",
       "  </thead>\n",
       "  <tbody>\n",
       "    <tr>\n",
       "      <th>166518</th>\n",
       "      <td>1</td>\n",
       "      <td>acquirer_A</td>\n",
       "      <td>246</td>\n",
       "      <td>DEBIT</td>\n",
       "      <td>company_2</td>\n",
       "      <td>intermediate_score</td>\n",
       "    </tr>\n",
       "    <tr>\n",
       "      <th>132508</th>\n",
       "      <td>1</td>\n",
       "      <td>acquirer_B</td>\n",
       "      <td>198</td>\n",
       "      <td>CREDIT</td>\n",
       "      <td>company_1</td>\n",
       "      <td>intermediate_score</td>\n",
       "    </tr>\n",
       "    <tr>\n",
       "      <th>137852</th>\n",
       "      <td>0</td>\n",
       "      <td>acquirer_A</td>\n",
       "      <td>49</td>\n",
       "      <td>DEBIT</td>\n",
       "      <td>company_2</td>\n",
       "      <td>low_score</td>\n",
       "    </tr>\n",
       "    <tr>\n",
       "      <th>255871</th>\n",
       "      <td>1</td>\n",
       "      <td>acquirer_A</td>\n",
       "      <td>139</td>\n",
       "      <td>CREDIT</td>\n",
       "      <td>company_2</td>\n",
       "      <td>intermediate_score</td>\n",
       "    </tr>\n",
       "    <tr>\n",
       "      <th>229889</th>\n",
       "      <td>1</td>\n",
       "      <td>acquirer_A</td>\n",
       "      <td>111</td>\n",
       "      <td>DEBIT</td>\n",
       "      <td>company_1</td>\n",
       "      <td>intermediate_score</td>\n",
       "    </tr>\n",
       "  </tbody>\n",
       "</table>\n",
       "</div>"
      ],
      "text/plain": [
       "        target    acquirer  order_total_spent credit_card_type credit_card_company model_score_category\n",
       "id                                                                                                     \n",
       "166518       1  acquirer_A                246            DEBIT           company_2   intermediate_score\n",
       "132508       1  acquirer_B                198           CREDIT           company_1   intermediate_score\n",
       "137852       0  acquirer_A                 49            DEBIT           company_2            low_score\n",
       "255871       1  acquirer_A                139           CREDIT           company_2   intermediate_score\n",
       "229889       1  acquirer_A                111            DEBIT           company_1   intermediate_score"
      ]
     },
     "execution_count": 7,
     "metadata": {},
     "output_type": "execute_result"
    }
   ],
   "source": [
    "df = pd.read_csv('data/df.csv', index_col='id')\n",
    "df.head()"
   ]
  },
  {
   "cell_type": "code",
   "execution_count": 8,
   "metadata": {},
   "outputs": [
    {
     "data": {
      "text/html": [
       "<div>\n",
       "<style scoped>\n",
       "    .dataframe tbody tr th:only-of-type {\n",
       "        vertical-align: middle;\n",
       "    }\n",
       "\n",
       "    .dataframe tbody tr th {\n",
       "        vertical-align: top;\n",
       "    }\n",
       "\n",
       "    .dataframe thead tr th {\n",
       "        text-align: left;\n",
       "    }\n",
       "</style>\n",
       "<table border=\"1\" class=\"dataframe\">\n",
       "  <thead>\n",
       "    <tr>\n",
       "      <th></th>\n",
       "      <th></th>\n",
       "      <th colspan=\"5\" halign=\"left\">Grouped by acquirer</th>\n",
       "    </tr>\n",
       "    <tr>\n",
       "      <th></th>\n",
       "      <th></th>\n",
       "      <th>Missing</th>\n",
       "      <th>Overall</th>\n",
       "      <th>acquirer_A</th>\n",
       "      <th>acquirer_B</th>\n",
       "      <th>SMD (acquirer_A,acquirer_B)</th>\n",
       "    </tr>\n",
       "  </thead>\n",
       "  <tbody>\n",
       "    <tr>\n",
       "      <th>n</th>\n",
       "      <th></th>\n",
       "      <td></td>\n",
       "      <td>49995</td>\n",
       "      <td>38708</td>\n",
       "      <td>11287</td>\n",
       "      <td></td>\n",
       "    </tr>\n",
       "    <tr>\n",
       "      <th>Total Spent, mean (SD)</th>\n",
       "      <th></th>\n",
       "      <td>0</td>\n",
       "      <td>131.8 (63.7)</td>\n",
       "      <td>128.4 (63.9)</td>\n",
       "      <td>143.6 (61.5)</td>\n",
       "      <td>0.242</td>\n",
       "    </tr>\n",
       "    <tr>\n",
       "      <th rowspan=\"2\" valign=\"top\">credit_card_type, n (%)</th>\n",
       "      <th>CREDIT</th>\n",
       "      <td>0</td>\n",
       "      <td>22998 (46.0)</td>\n",
       "      <td>16743 (43.3)</td>\n",
       "      <td>6255 (55.4)</td>\n",
       "      <td>0.245</td>\n",
       "    </tr>\n",
       "    <tr>\n",
       "      <th>DEBIT</th>\n",
       "      <td></td>\n",
       "      <td>26997 (54.0)</td>\n",
       "      <td>21965 (56.7)</td>\n",
       "      <td>5032 (44.6)</td>\n",
       "      <td></td>\n",
       "    </tr>\n",
       "    <tr>\n",
       "      <th rowspan=\"2\" valign=\"top\">credit_card_company, n (%)</th>\n",
       "      <th>company_1</th>\n",
       "      <td>0</td>\n",
       "      <td>28435 (56.9)</td>\n",
       "      <td>24081 (62.2)</td>\n",
       "      <td>4354 (38.6)</td>\n",
       "      <td>0.487</td>\n",
       "    </tr>\n",
       "    <tr>\n",
       "      <th>company_2</th>\n",
       "      <td></td>\n",
       "      <td>21560 (43.1)</td>\n",
       "      <td>14627 (37.8)</td>\n",
       "      <td>6933 (61.4)</td>\n",
       "      <td></td>\n",
       "    </tr>\n",
       "    <tr>\n",
       "      <th rowspan=\"3\" valign=\"top\">model_score_category, n (%)</th>\n",
       "      <th>high_score</th>\n",
       "      <td>0</td>\n",
       "      <td>12586 (25.2)</td>\n",
       "      <td>10725 (27.7)</td>\n",
       "      <td>1861 (16.5)</td>\n",
       "      <td>0.385</td>\n",
       "    </tr>\n",
       "    <tr>\n",
       "      <th>intermediate_score</th>\n",
       "      <td></td>\n",
       "      <td>24909 (49.8)</td>\n",
       "      <td>19658 (50.8)</td>\n",
       "      <td>5251 (46.5)</td>\n",
       "      <td></td>\n",
       "    </tr>\n",
       "    <tr>\n",
       "      <th>low_score</th>\n",
       "      <td></td>\n",
       "      <td>12500 (25.0)</td>\n",
       "      <td>8325 (21.5)</td>\n",
       "      <td>4175 (37.0)</td>\n",
       "      <td></td>\n",
       "    </tr>\n",
       "    <tr>\n",
       "      <th>authorization, n (%)</th>\n",
       "      <th>1</th>\n",
       "      <td>0</td>\n",
       "      <td>41901 (83.8)</td>\n",
       "      <td>32957 (85.1)</td>\n",
       "      <td>8944 (79.2)</td>\n",
       "      <td>0.155</td>\n",
       "    </tr>\n",
       "  </tbody>\n",
       "</table>\n",
       "</div><br />"
      ],
      "text/plain": [
       "                                               Grouped by acquirer                                                                      \n",
       "                                                           Missing       Overall    acquirer_A    acquirer_B SMD (acquirer_A,acquirer_B)\n",
       "n                                                                          49995         38708         11287                            \n",
       "Total Spent, mean (SD)                                           0  131.8 (63.7)  128.4 (63.9)  143.6 (61.5)                       0.242\n",
       "credit_card_type, n (%)     CREDIT                               0  22998 (46.0)  16743 (43.3)   6255 (55.4)                       0.245\n",
       "                            DEBIT                                   26997 (54.0)  21965 (56.7)   5032 (44.6)                            \n",
       "credit_card_company, n (%)  company_1                            0  28435 (56.9)  24081 (62.2)   4354 (38.6)                       0.487\n",
       "                            company_2                               21560 (43.1)  14627 (37.8)   6933 (61.4)                            \n",
       "model_score_category, n (%) high_score                           0  12586 (25.2)  10725 (27.7)   1861 (16.5)                       0.385\n",
       "                            intermediate_score                      24909 (49.8)  19658 (50.8)   5251 (46.5)                            \n",
       "                            low_score                               12500 (25.0)   8325 (21.5)   4175 (37.0)                            \n",
       "authorization, n (%)        1                                    0  41901 (83.8)  32957 (85.1)   8944 (79.2)                       0.155"
      ]
     },
     "execution_count": 8,
     "metadata": {},
     "output_type": "execute_result"
    }
   ],
   "source": [
    "# Columns to summarize\n",
    "columns = ['order_total_spent', 'credit_card_type', 'credit_card_company',\n",
    "           'model_score_category', 'target']\n",
    "\n",
    "# Columns containing categorical variables\n",
    "categorical = ['credit_card_type', 'credit_card_company', 'model_score_category', 'target']\n",
    "\n",
    "# Stratification variable - The Intervention\n",
    "groupby = ['acquirer']\n",
    "\n",
    "# Rename columns\n",
    "labels={'order_total_spent': 'Total Spent', 'target': 'authorization'}\n",
    "\n",
    "# Keep level 1 in target column\n",
    "limit = {\"target\": 1}\n",
    "\n",
    "table1 = TableOne(df, columns, categorical, groupby, pval=False, smd=True,\n",
    "                  htest_name=True, limit=limit, rename=labels)\n",
    "table1"
   ]
  },
  {
   "cell_type": "markdown",
   "metadata": {},
   "source": [
    "Now we set the relevant variables and initiate the PrepData class"
   ]
  },
  {
   "cell_type": "code",
   "execution_count": 9,
   "metadata": {},
   "outputs": [],
   "source": [
    "PS_GROUP = 'acquirer'     # set the group variable (treatment/control)\n",
    "TARGET = 'target'         # set the target variable, the outcome of interest\n",
    "FILE_PATH = 'data/df.csv' # dataframe contains all dependant and independent variables"
   ]
  },
  {
   "cell_type": "code",
   "execution_count": 10,
   "metadata": {},
   "outputs": [
    {
     "name": "stdout",
     "output_type": "stream",
     "text": [
      "loaded data with 49995 observations\n",
      "False    0.774237\n",
      "True     0.225763\n",
      "Name: acquirer, dtype: float64\n",
      "The minority class contains 11287 observations\n",
      "False    0.838104\n",
      "True     0.161896\n",
      "Name: target, dtype: float64\n",
      "The minority class contains 8094 observations\n"
     ]
    }
   ],
   "source": [
    "data = PrepData(FILE_PATH, group=PS_GROUP, target=TARGET,  index_col=\"id\")"
   ]
  },
  {
   "cell_type": "markdown",
   "metadata": {},
   "source": [
    "We initiate the PScorer and estimate the Propensity Score, currently only logostic regression is availble"
   ]
  },
  {
   "cell_type": "code",
   "execution_count": 12,
   "metadata": {},
   "outputs": [
    {
     "data": {
      "text/plain": [
       "id\n",
       "166518    0.350140\n",
       "132508   -0.209982\n",
       "137852    0.581685\n",
       "255871    0.582715\n",
       "229889   -0.783610\n",
       "            ...   \n",
       "137660   -0.869582\n",
       "140041    1.225633\n",
       "191360   -0.173064\n",
       "247552   -0.829147\n",
       "292476   -0.514117\n",
       "Length: 49995, dtype: float64"
      ]
     },
     "execution_count": 12,
     "metadata": {},
     "output_type": "execute_result"
    }
   ],
   "source": [
    "scorer = PScorer()\n",
    "scorer.fit(data.input, data.group_label)\n",
    "ps_scores: Series = scorer.predict(data.input)\n",
    "ps_scores"
   ]
  },
  {
   "cell_type": "markdown",
   "metadata": {},
   "source": [
    "Using ROC curve and AUC is a useful way to assess the model fit"
   ]
  },
  {
   "cell_type": "code",
   "execution_count": 13,
   "metadata": {},
   "outputs": [
    {
     "data": {
      "image/png": "[encoded data removed]",
      "text/plain": [
       "<Figure size 432x288 with 1 Axes>"
      ]
     },
     "metadata": {
      "needs_background": "light"
     },
     "output_type": "display_data"
    }
   ],
   "source": [
    "ScorePlotter.plot_roc_curve(ps_scores, data.group_label)"
   ]
  },
  {
   "cell_type": "markdown",
   "metadata": {},
   "source": [
    "We initate the ObsMatcher class, set the matching ratio and the caliper"
   ]
  },
  {
   "cell_type": "code",
   "execution_count": 14,
   "metadata": {},
   "outputs": [
    {
     "name": "stderr",
     "output_type": "stream",
     "text": [
      "  0%|          | 28/11287 [00:00<00:41, 272.88it/s]"
     ]
    },
    {
     "name": "stdout",
     "output_type": "stream",
     "text": [
      "starting matching process, this might take a time\n"
     ]
    },
    {
     "name": "stderr",
     "output_type": "stream",
     "text": [
      "100%|██████████| 11287/11287 [00:24<00:00, 465.61it/s]"
     ]
    },
    {
     "name": "stdout",
     "output_type": "stream",
     "text": [
      "please note:the matched dataset contains 10659 observations from minority class\n"
     ]
    },
    {
     "name": "stderr",
     "output_type": "stream",
     "text": [
      "\n"
     ]
    }
   ],
   "source": [
    "matcher = ObsMatcher(n_matches=1, caliper=0.001)\n",
    "matched_index: List[int] = matcher.match_scores(ps_scores, data.group_label)"
   ]
  },
  {
   "cell_type": "markdown",
   "metadata": {},
   "source": [
    "Using SMD plot, before and after matching, we can asses the matching quality"
   ]
  },
  {
   "cell_type": "code",
   "execution_count": 15,
   "metadata": {},
   "outputs": [
    {
     "data": {
      "image/png": "[encoded data removed]",
      "text/plain": [
       "<Figure size 432x288 with 1 Axes>"
      ]
     },
     "metadata": {
      "needs_background": "light"
     },
     "output_type": "display_data"
    }
   ],
   "source": [
    " ScorePlotter.plot_smd_comparison(\n",
    "        data=data.input,\n",
    "        matched_index=matched_index,\n",
    "        treatment=data.group_label\n",
    "        )"
   ]
  },
  {
   "cell_type": "markdown",
   "metadata": {},
   "source": [
    "We now can run again the tableone and assess the causal effect on the matched population"
   ]
  },
  {
   "cell_type": "code",
   "execution_count": 20,
   "metadata": {},
   "outputs": [
    {
     "data": {
      "text/plain": [
       "acquirer_A    10659\n",
       "acquirer_B    10659\n",
       "Name: acquirer, dtype: int64"
      ]
     },
     "execution_count": 20,
     "metadata": {},
     "output_type": "execute_result"
    }
   ],
   "source": [
    "df_matched = df[df.index.isin(matched_index)]\n",
    "df_matched.acquirer.value_counts()"
   ]
  },
  {
   "cell_type": "code",
   "execution_count": 21,
   "metadata": {},
   "outputs": [
    {
     "data": {
      "text/html": [
       "<div>\n",
       "<style scoped>\n",
       "    .dataframe tbody tr th:only-of-type {\n",
       "        vertical-align: middle;\n",
       "    }\n",
       "\n",
       "    .dataframe tbody tr th {\n",
       "        vertical-align: top;\n",
       "    }\n",
       "\n",
       "    .dataframe thead tr th {\n",
       "        text-align: left;\n",
       "    }\n",
       "</style>\n",
       "<table border=\"1\" class=\"dataframe\">\n",
       "  <thead>\n",
       "    <tr>\n",
       "      <th></th>\n",
       "      <th></th>\n",
       "      <th colspan=\"5\" halign=\"left\">Grouped by acquirer</th>\n",
       "    </tr>\n",
       "    <tr>\n",
       "      <th></th>\n",
       "      <th></th>\n",
       "      <th>Missing</th>\n",
       "      <th>Overall</th>\n",
       "      <th>acquirer_A</th>\n",
       "      <th>acquirer_B</th>\n",
       "      <th>SMD (acquirer_A,acquirer_B)</th>\n",
       "    </tr>\n",
       "  </thead>\n",
       "  <tbody>\n",
       "    <tr>\n",
       "      <th>n</th>\n",
       "      <th></th>\n",
       "      <td></td>\n",
       "      <td>21318</td>\n",
       "      <td>10659</td>\n",
       "      <td>10659</td>\n",
       "      <td></td>\n",
       "    </tr>\n",
       "    <tr>\n",
       "      <th>Total Spent, mean (SD)</th>\n",
       "      <th></th>\n",
       "      <td>0</td>\n",
       "      <td>141.0 (61.9)</td>\n",
       "      <td>141.1 (62.9)</td>\n",
       "      <td>141.0 (60.9)</td>\n",
       "      <td>-0.001</td>\n",
       "    </tr>\n",
       "    <tr>\n",
       "      <th rowspan=\"2\" valign=\"top\">credit_card_type, n (%)</th>\n",
       "      <th>CREDIT</th>\n",
       "      <td>0</td>\n",
       "      <td>11775 (55.2)</td>\n",
       "      <td>5935 (55.7)</td>\n",
       "      <td>5840 (54.8)</td>\n",
       "      <td>0.018</td>\n",
       "    </tr>\n",
       "    <tr>\n",
       "      <th>DEBIT</th>\n",
       "      <td></td>\n",
       "      <td>9543 (44.8)</td>\n",
       "      <td>4724 (44.3)</td>\n",
       "      <td>4819 (45.2)</td>\n",
       "      <td></td>\n",
       "    </tr>\n",
       "    <tr>\n",
       "      <th rowspan=\"2\" valign=\"top\">credit_card_company, n (%)</th>\n",
       "      <th>company_1</th>\n",
       "      <td>0</td>\n",
       "      <td>8574 (40.2)</td>\n",
       "      <td>4275 (40.1)</td>\n",
       "      <td>4299 (40.3)</td>\n",
       "      <td>0.005</td>\n",
       "    </tr>\n",
       "    <tr>\n",
       "      <th>company_2</th>\n",
       "      <td></td>\n",
       "      <td>12744 (59.8)</td>\n",
       "      <td>6384 (59.9)</td>\n",
       "      <td>6360 (59.7)</td>\n",
       "      <td></td>\n",
       "    </tr>\n",
       "    <tr>\n",
       "      <th rowspan=\"3\" valign=\"top\">model_score_category, n (%)</th>\n",
       "      <th>high_score</th>\n",
       "      <td>0</td>\n",
       "      <td>3711 (17.4)</td>\n",
       "      <td>1855 (17.4)</td>\n",
       "      <td>1856 (17.4)</td>\n",
       "      <td>0.023</td>\n",
       "    </tr>\n",
       "    <tr>\n",
       "      <th>intermediate_score</th>\n",
       "      <td></td>\n",
       "      <td>10471 (49.1)</td>\n",
       "      <td>5291 (49.6)</td>\n",
       "      <td>5180 (48.6)</td>\n",
       "      <td></td>\n",
       "    </tr>\n",
       "    <tr>\n",
       "      <th>low_score</th>\n",
       "      <td></td>\n",
       "      <td>7136 (33.5)</td>\n",
       "      <td>3513 (33.0)</td>\n",
       "      <td>3623 (34.0)</td>\n",
       "      <td></td>\n",
       "    </tr>\n",
       "    <tr>\n",
       "      <th>authorization, n (%)</th>\n",
       "      <th>1</th>\n",
       "      <td>0</td>\n",
       "      <td>17610 (82.6)</td>\n",
       "      <td>8965 (84.1)</td>\n",
       "      <td>8645 (81.1)</td>\n",
       "      <td>0.079</td>\n",
       "    </tr>\n",
       "  </tbody>\n",
       "</table>\n",
       "</div><br />"
      ],
      "text/plain": [
       "                                               Grouped by acquirer                                                                      \n",
       "                                                           Missing       Overall    acquirer_A    acquirer_B SMD (acquirer_A,acquirer_B)\n",
       "n                                                                          21318         10659         10659                            \n",
       "Total Spent, mean (SD)                                           0  141.0 (61.9)  141.1 (62.9)  141.0 (60.9)                      -0.001\n",
       "credit_card_type, n (%)     CREDIT                               0  11775 (55.2)   5935 (55.7)   5840 (54.8)                       0.018\n",
       "                            DEBIT                                    9543 (44.8)   4724 (44.3)   4819 (45.2)                            \n",
       "credit_card_company, n (%)  company_1                            0   8574 (40.2)   4275 (40.1)   4299 (40.3)                       0.005\n",
       "                            company_2                               12744 (59.8)   6384 (59.9)   6360 (59.7)                            \n",
       "model_score_category, n (%) high_score                           0   3711 (17.4)   1855 (17.4)   1856 (17.4)                       0.023\n",
       "                            intermediate_score                      10471 (49.1)   5291 (49.6)   5180 (48.6)                            \n",
       "                            low_score                                7136 (33.5)   3513 (33.0)   3623 (34.0)                            \n",
       "authorization, n (%)        1                                    0  17610 (82.6)   8965 (84.1)   8645 (81.1)                       0.079"
      ]
     },
     "execution_count": 21,
     "metadata": {},
     "output_type": "execute_result"
    }
   ],
   "source": [
    "table2 = TableOne(df_matched, columns, categorical, groupby, pval=False, smd=True,\n",
    "                  htest_name=True, limit=limit, rename=labels)\n",
    "table2"
   ]
  }
 ],
 "metadata": {
  "kernelspec": {
   "display_name": "Python 3",
   "language": "python",
   "name": "python3"
  },
  "language_info": {
   "codemirror_mode": {
    "name": "ipython",
    "version": 3
   },
   "file_extension": ".py",
   "mimetype": "text/x-python",
   "name": "python",
   "nbconvert_exporter": "python",
   "pygments_lexer": "ipython3",
   "version": "3.8.3"
  }
 },
 "nbformat": 4,
 "nbformat_minor": 4
}
